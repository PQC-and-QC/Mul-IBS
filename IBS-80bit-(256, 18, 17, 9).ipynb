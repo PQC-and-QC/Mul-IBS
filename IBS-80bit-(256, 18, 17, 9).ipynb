{
 "cells": [
  {
   "cell_type": "code",
   "execution_count": 3,
   "metadata": {},
   "outputs": [
    {
     "name": "stdout",
     "output_type": "stream",
     "text": [
      "S in vertible= True\n",
      "T in vertible= True\n",
      "0.280346155166626\n"
     ]
    }
   ],
   "source": [
    "#KeyGen\n",
    "from time import time\n",
    "k1tm1=time()\n",
    "R.<x>=GF(256)\n",
    "v=18\n",
    "o1=17\n",
    "o2=9\n",
    "n=v+o1+o2\n",
    "m=o1+o2\n",
    "#F=[PolynomialRing(GF(31),'x',n).random_element(degree=2) for i in range (0,m,1)]\n",
    "#RR=[PolynomialRing(GF(31),'x',m).random_element(degree=2) for i in range (0,m,1)]\n",
    "QO1=[PolynomialRing(GF(256),'y',v).random_element(degree=2) for i in range(0,o1,1)]\n",
    "LO1=[PolynomialRing(GF(256),'y',v).random_element(degree=1) for i in range(0,o1*o1,1)]\n",
    "QO2=[PolynomialRing(GF(256),'y',v+o1).random_element(degree=2) for i in range(0,o2,1)]\n",
    "LO2=[PolynomialRing(GF(256),'y',v+o1).random_element(degree=1) for i in range(0,o2*o2,1)]\n",
    "zero=Matrix(n,1)\n",
    "T=random_matrix(GF(256),n,n)\n",
    "S=random_matrix(GF(256),m,m)\n",
    "print(\"S in vertible=\",S.is_invertible())\n",
    "print(\"T in vertible=\",T.is_invertible())\n",
    "import hashlib\n",
    "from time import time\n",
    "k1tm2=time()\n",
    "k1tm3=k1tm2-k1tm1\n",
    "print(k1tm3)"
   ]
  },
  {
   "cell_type": "code",
   "execution_count": 6,
   "metadata": {},
   "outputs": [
    {
     "name": "stdout",
     "output_type": "stream",
     "text": [
      "Defining t0, t1, t2, t3, t4, t5, t6, t7, t8, t9, t10, t11, t12, t13, t14, t15, t16, t17, t18, t19, t20, t21, t22, t23, t24, t25, t26, t27, t28, t29, t30, t31, t32, t33, t34, t35, t36, t37, t38, t39, t40, t41, t42, t43\n",
      "\n",
      "\n",
      "1.744645595550537\n"
     ]
    },
    {
     "data": {
      "text/plain": [
       "Multivariate Polynomial Ring in t0, t1, t2, t3, t4, t5, t6, t7, t8, t9, t10, t11, t12, t13, t14, t15, t16, t17, t18, t19, t20, t21, t22, t23, t24, t25, t26, t27, t28, t29, t30, t31, t32, t33, t34, t35, t36, t37, t38, t39, t40, t41, t42, t43 over Finite Field in z8 of size 2^8"
      ]
     },
     "execution_count": 6,
     "metadata": {},
     "output_type": "execute_result"
    }
   ],
   "source": [
    "from time import time\n",
    "k2tm1=time()\n",
    "R.<t0,t1,t2,t3,t4,t5,t6,t7,t8,t9,t10,t11,t12,t13,t14,t15,t16,t17,t18,t19,t20,t21,t22,t23,t24,t25,t26,t27,t28,t29,t30,t31,t32,t33,t34,t35,t36,t37,t38,t39,t40,t41,t42,t43>=PolynomialRing(GF(256),44)\n",
    "R.inject_variables()\n",
    "R.gens()\n",
    "print(\"\\n\")\n",
    "M = matrix([list(R.gens())])\n",
    "N=M.transpose()\n",
    "T1=T*N[0:n:1]\n",
    "VV1=T1[0:18:1]\n",
    "OO1=T1[18:35:1]\n",
    "OO2=T1[35:44:1]\n",
    "\n",
    "V1=VV1.list()\n",
    "O1=OO1.list()\n",
    "O2=OO2.list()\n",
    "QQO1=[QO1[i](V1[0],V1[1],V1[2],V1[3],V1[4],V1[5],V1[6],V1[7],V1[8],V1[9],V1[10],V1[11],V1[12],V1[13], V1[14], V1[15], V1[16],V1[17]) for i in range (0,o1,1)]\n",
    "LLO1=[LO1[i](V1[0],V1[1],V1[2],V1[3],V1[4],V1[5],V1[6],V1[7],V1[8],V1[9],V1[10],V1[11],V1[12],V1[13],V1[14], V1[15], V1[16],V1[17]) for i in range (0,o1*o1,1)]\n",
    "MLLO1=Matrix(o1,o1,LLO1)\n",
    "MLO1=MLLO1*OO1\n",
    "MO1=MLO1.list()\n",
    "VO1=[QQO1[i]+MO1[i] for i in range(0,o1,1)]\n",
    "QQO2=[QO2[i](V1[0],V1[1],V1[2],V1[3],V1[4],V1[5],V1[6],V1[7],V1[8],V1[9],V1[10],V1[11],V1[12],V1[13],V1[14], V1[15], V1[16],V1[17],O1[0],O1[1],O1[2],O1[3],O1[4],O1[5],O1[6],O1[7],O1[8],O1[9],O1[10],O1[11],O1[12],O1[13],O1[14],O1[15],O1[16]) for i in range (0,o2,1)]\n",
    "LLO2=[LO2[i](V1[0],V1[1],V1[2],V1[3],V1[4],V1[5],V1[6],V1[7],V1[8],V1[9],V1[10],V1[11],V1[12],V1[13],V1[14], V1[15], V1[16],V1[17],O1[0],O1[1],O1[2],O1[3],O1[4],O1[5],O1[6],O1[7],O1[8],O1[9],O1[10],O1[11],O1[12],O1[13],O1[14],O1[15],O1[16]) for i in range (0,o2*o2,1)]\n",
    "MLLO2=Matrix(o2,o2,LLO2)\n",
    "MLO2=MLLO2*OO2\n",
    "MO2=MLO2.list()\n",
    "#VOO2=[O2[i]*LLO2[i] for i in range(0,o2,1)]\n",
    "VO2=[QQO2[i]+MO2[i] for i in range(0,o2,1)]\n",
    "PP=VO1+VO2\n",
    "MPP=Matrix(26,1,PP)\n",
    "P=S*MPP\n",
    "QP=P.list()\n",
    "#RRR=[RR[i](t51, t52, t53, t54, t55, t56, t57, t58, t59, t60, t61, t62, t63, t64, t65, t66, t67, t68, t69, t70, t71, t72, t73, t74, t75, t76, t77, t78, t79, t80, t81, t82, t83, t84, t85) for i in range (0,m,1)]\n",
    "F=[QP[i] for i in range (0,m,1)]\n",
    "from time import time\n",
    "k2tm2=time()\n",
    "k2tm3=k2tm2-k2tm1\n",
    "print(k2tm3)\n",
    "F[0].parent()"
   ]
  },
  {
   "cell_type": "code",
   "execution_count": 7,
   "metadata": {},
   "outputs": [],
   "source": [
    "#for computing time\n",
    "F=[PolynomialRing(GF(256),'x',n).random_element(degree=2) for i in range (0,m,1)]"
   ]
  },
  {
   "cell_type": "code",
   "execution_count": 8,
   "metadata": {},
   "outputs": [
    {
     "name": "stdout",
     "output_type": "stream",
     "text": [
      "0.00031065940856933594\n"
     ]
    }
   ],
   "source": [
    "from time import time\n",
    "k3tm1=time()\n",
    "def G(x,y):\n",
    "    z=[(x.list())[i]+(y.list())[i] for i in range (0,n,1)]\n",
    "    R1=[F[i](z) for i in range (0,m,1)]\n",
    "    R2=[F[i](x.list()) for i in range (0,m,1)]\n",
    "    R3=[F[i](y.list()) for i in range (0,m,1)]\n",
    "    R4=[F[i](zero.list()) for i in range (0,m,1)]\n",
    "    R5=[R1[i]-R2[i]-R3[i]+R4[i] for i in range (0,m,1)]\n",
    "    return R5\n",
    "def Com0(r0,t0,e0):\n",
    "    #xy=[sum(e0)*r0[i]*t0[i]*g0[i] for i in range (0,m,1)]\n",
    "    xy=r0.list()+t0.list()+e0.list()\n",
    "    commit0=hashlib.sha3_256(str(xy).encode('utf-8')).hexdigest()\n",
    "    return commit0\n",
    "def Com1(r1,e001):\n",
    "    #xy=[sum(e00)*r1[i]*g1[i] for i in range (0,m,1)]\n",
    "    xy=r1.list()+e001.list()\n",
    "    commit1=hashlib.sha3_256(str(xy).encode('utf-8')).hexdigest()\n",
    "    return commit1\n",
    "from time import time\n",
    "k3tm2=time()\n",
    "k3tm3=k3tm2-k3tm1\n",
    "print(k3tm3)"
   ]
  },
  {
   "cell_type": "code",
   "execution_count": 9,
   "metadata": {},
   "outputs": [
    {
     "name": "stdout",
     "output_type": "stream",
     "text": [
      "k= [1, 0, 0, 1, 1, 1, 0, 0, 0, 1, 0, 1, 1, 0, 1, 1, 0, 1, 0, 0, 1, 1, 1, 1, 1, 0]\n",
      "0.0076520442962646484\n"
     ]
    }
   ],
   "source": [
    "#Hash can generate ouput of length 64\n",
    "from time import time\n",
    "k4tm1=time()\n",
    "#user id= any idenity\n",
    "ID=random_matrix(GF(256),m,1)\n",
    "HID=hashlib.sha3_256(str(ID).encode('utf-8')).hexdigest()\n",
    "scale=16\n",
    "k=[GF(256)(int(HID[i],scale)) for i in range (0,m,1)]\n",
    "print(\"k=\",k)\n",
    "#k=random_matrix(GF(31),m,1)\n",
    "from time import time\n",
    "k4tm2=time()\n",
    "k4tm3=k4tm2-k4tm1\n",
    "print(k4tm3)"
   ]
  },
  {
   "cell_type": "code",
   "execution_count": 10,
   "metadata": {},
   "outputs": [
    {
     "name": "stdout",
     "output_type": "stream",
     "text": [
      "Proceed further if true is comming: True\n",
      "0.045302391052246094\n"
     ]
    }
   ],
   "source": [
    "from time import time\n",
    "k5tm1=time()\n",
    "#P^{-1}(k)=T^{-1}CM^{-1}S^{-1}(k)=u=s=user's signing key\n",
    "#S^{-1}\n",
    "SI=S^-1\n",
    "\n",
    "kk=Matrix(m,1,k)\n",
    "sk=SI*kk\n",
    "#CM^{-1}\n",
    "rand=random_matrix(GF(256),v,1)\n",
    "SQO1=[QO1[i](rand.list()) for i in range (0,o1,1)]\n",
    "SLO1=[LO1[i](rand.list()) for i in range (0,o1*o1,1)]\n",
    "SLLO1=Matrix(o1,o1,SLO1)\n",
    "sk1=sk[0:o1:1]-Matrix(o1,1,SQO1)\n",
    "print(\"Proceed further if true is comming:\",SLLO1.is_invertible())\n",
    "SO1=SLLO1^-1*sk1\n",
    "ro=rand.list()+SO1.list()\n",
    "SQO2=[QO2[i](ro) for i in range (0,o2,1)]\n",
    "SLO2=[LO2[i](ro) for i in range (0,o2*o2,1)]\n",
    "SLLO2=Matrix(o2,o2,SLO2)\n",
    "sk2=sk[o1:m:1]-Matrix(o2,1,SQO2)\n",
    "SO2=SLLO2^-1*sk2\n",
    "#T^{-1}(rand)\n",
    "s=T^-1*Matrix(n,1,rand.list()+SO1.list()+SO2.list())\n",
    "#print(\"user's signing key s=\",s.list())\n",
    "from time import time\n",
    "k5tm2=time()\n",
    "k5tm3=k5tm2-k5tm1\n",
    "print(k5tm3)"
   ]
  },
  {
   "cell_type": "code",
   "execution_count": 11,
   "metadata": {},
   "outputs": [
    {
     "name": "stdout",
     "output_type": "stream",
     "text": [
      "public key k=H(ID)= [1, 0, 0, 1, 1, 1, 0, 0, 0, 1, 0, 1, 1, 0, 1, 1, 0, 1, 0, 0, 1, 1, 1, 1, 1, 0]\n",
      "\n",
      " \n",
      " user's signing key s= [z8^3 + 1, z8^7 + z8^4 + z8, z8^6 + z8^5 + z8^4 + z8^3 + z8^2 + z8 + 1, z8^5 + z8^4 + z8 + 1, z8^7 + z8^5 + z8^3 + z8 + 1, z8^7 + z8^6 + z8^5 + z8^4 + z8, z8^7 + z8^6 + z8^2 + z8, z8^7 + z8^6 + z8^4 + 1, z8^7 + z8^6 + z8^3 + z8^2 + 1, z8^5 + z8^2 + z8, z8^6 + z8^3 + 1, z8^7 + z8^6 + z8^5 + z8^4 + z8, z8^7 + z8^5 + z8^3 + 1, z8^7 + z8^5 + z8^2 + z8 + 1, z8^7 + z8^6 + z8^4 + 1, z8^7 + z8^3, z8^6 + z8^3 + z8^2 + z8, z8^7 + z8^6 + z8^5 + z8, z8^5 + z8^2 + 1, z8^7 + z8^3 + z8^2 + z8 + 1, z8^7 + z8^6 + z8^5 + z8^2 + 1, z8^6 + z8^3 + z8^2, z8^7 + z8^6 + z8^5 + z8^3 + z8^2 + z8 + 1, z8^7 + z8^6 + z8^3 + 1, z8^7 + z8^5 + z8^3 + z8^2, z8^7 + z8^4 + 1, z8^5 + z8^2 + z8, z8^7 + z8^6 + z8^4 + z8^3 + z8, z8^7 + z8^4 + 1, z8^7 + z8^5 + z8^4 + z8^2 + 1, z8^7 + z8^5 + z8^3 + z8^2 + z8 + 1, z8^4 + z8^3 + z8, z8^7 + z8^5 + z8^4 + z8^3 + z8^2 + 1, z8^6 + z8^4 + z8, z8^7 + z8^5 + z8^4 + z8^3 + 1, z8^6 + z8^5 + z8^4 + z8^3 + z8^2 + z8, z8^7 + z8^4 + z8^3 + z8^2 + z8, z8^3 + 1, z8^7 + z8^6 + z8^2 + z8 + 1, z8^6 + z8^5 + z8^2 + 1, z8^6 + z8^3 + z8^2 + z8, z8^6 + z8^4, z8^7 + z8^6 + z8^5 + z8^4 + z8^3 + z8^2 + 1, z8^7 + z8^6 + z8^4 + z8^2 + z8 + 1]\n",
      "KeyGen time= 2.0732033252716064\n"
     ]
    }
   ],
   "source": [
    "print(\"public key k=H(ID)=\", k)\n",
    "print(\"\\n \\n user's signing key s=\",s.list())\n",
    "print(\"KeyGen time=\",k1tm3+k2tm3+k3tm3+k4tm3+k5tm3)"
   ]
  },
  {
   "cell_type": "code",
   "execution_count": 12,
   "metadata": {},
   "outputs": [],
   "source": [
    "#k=[F[i](s.list()) for i range (0,m,1)]"
   ]
  },
  {
   "cell_type": "code",
   "execution_count": 13,
   "metadata": {},
   "outputs": [],
   "source": [
    "#choose message: anything\n",
    "#MSG=random_matrix(GF(31),m,1)\n",
    "MSG=\"Help ever hurt never\""
   ]
  },
  {
   "cell_type": "code",
   "execution_count": 14,
   "metadata": {},
   "outputs": [],
   "source": [
    "def SIG(MSG,s,F):\n",
    "    hash1=hashlib.sha3_256(str(MSG).encode('utf-8')).hexdigest()\n",
    "    r0=random_matrix(GF(256),n,1)\n",
    "    t0=random_matrix(GF(256),n,1)\n",
    "    e0=random_matrix(GF(256),m,1)\n",
    "    r1=s-r0\n",
    "    c0=Com0(r0,t0,e0)\n",
    "    GB0=G(t0,r1)\n",
    "    GB01=Matrix(m,1,GB0)\n",
    "    e01=[(GB01.list())[i]+(e0.list())[i] for i in range (0,m,1)]\n",
    "    e00=Matrix(m,1,e01)\n",
    "    c1=Com1(r1,e00)\n",
    "    hash2=hashlib.sha3_256(str(hash1+c0+c1).encode('utf-8')).hexdigest()\n",
    "    scale=16\n",
    "    a=int(hash2,scale)\n",
    "    print(\"a=\",a)\n",
    "    #Resp1=(tt1,e1)\n",
    "    r01=r0*a\n",
    "    t1temp=[(r01.list())[i]-(t0.list())[i] for i in range (0,n,1)]\n",
    "    tt1=Matrix(n,1,t1temp)\n",
    "    temp=[a*F[i](r0.list()) for i in range (0,m,1)]\n",
    "    temp0=Matrix(m,1,temp)\n",
    "    e1=temp0-e0\n",
    "    hashresp1=hashlib.sha3_256(str(tt1.list()+e1.list()).encode('utf-8')).hexdigest()\n",
    "    hash3=hashlib.sha3_256(str(hash1+c0+c1+hashresp1).encode('utf-8')).hexdigest()\n",
    "    ch=int(hash3,scale)\n",
    "    chl=ch%2\n",
    "    print(\"\\n\\n chl=\",chl)\n",
    "    #Resp2=(Resp21,Resp22)\n",
    "    Resp2=r1*chl+r0*(1-chl)\n",
    "    print(\"Signature is (COMIT,Resp1,Resp2), where\\n\\n\")\n",
    "    print(\"COMIT=(c0,c1)=\\n\",c0,\"\\n\", c1)\n",
    "    print(\"\\n Resp1=(tt1,e1)\\n\", tt1.list(),\"\\n\",e1.list())\n",
    "    print(\"\\n Resp2= \\n\",Resp2.list())\n",
    "    return c0,c1,tt1,e1,Resp2"
   ]
  },
  {
   "cell_type": "code",
   "execution_count": 15,
   "metadata": {},
   "outputs": [
    {
     "name": "stdout",
     "output_type": "stream",
     "text": [
      "a= 112589965736012970723646789591093228269417697153894738197501366183298416793764\n",
      "\n",
      "\n",
      " chl= 1\n",
      "Signature is (COMIT,Resp1,Resp2), where\n",
      "\n",
      "\n",
      "COMIT=(c0,c1)=\n",
      " 6dba6c9927e7fb8d4dd8b23a63d98f05f7f5d6058dbfea5f6c5c53e56d268df5 \n",
      " d59ed6855018b52095d4bb73f999e55bda5f78baa0438593c35d1a120f8cd355\n",
      "\n",
      " Resp1=(tt1,e1)\n",
      " [z8^6 + z8^2, z8^7 + z8^6 + z8^4 + z8^2 + 1, z8^7 + z8^6 + z8^4 + 1, z8^6 + z8^5 + z8^3, z8^5 + z8^3 + z8, z8^7 + z8^6 + z8^5 + z8^3 + z8^2 + 1, z8^5 + z8 + 1, z8^7 + z8^6 + z8^4 + z8, z8^7 + z8^5 + z8, z8^6 + z8^3 + z8, z8^6 + z8^5 + z8^4 + 1, z8^4 + z8^3, z8^7 + z8^6 + z8^3 + z8^2 + 1, z8^5 + z8^4 + 1, z8^7 + z8^4 + z8^3, z8^6 + z8^3 + 1, z8^6 + z8^5 + z8^4 + z8^3 + z8, z8^7 + z8^4 + z8^3 + z8, z8^7 + z8^6 + z8^3 + z8^2 + z8 + 1, z8^7 + z8^6 + z8^3 + z8^2 + 1, z8^7 + z8^3 + z8 + 1, z8^6 + z8^3 + z8, z8^7 + z8^6 + z8^5 + 1, z8^7 + z8^4 + z8^3 + 1, z8^7 + z8^6 + z8^5 + z8^3 + 1, z8^7 + z8^4 + z8^3 + z8^2, z8^5 + 1, z8^7 + z8^6 + z8^4 + z8^3, z8^6 + z8^3 + 1, z8^7 + z8^5 + z8^3 + z8, z8^7 + z8^5 + z8^4 + z8^3, z8^7 + z8^3, z8^7 + z8^6 + z8^5 + z8^4 + z8^3 + z8^2, z8^6 + z8^5 + z8^3 + z8^2 + z8 + 1, z8^7 + z8^6 + z8^5 + z8^4 + z8^3 + 1, z8^7 + z8^5 + 1, z8^5 + z8^4 + 1, z8^6 + z8^5 + z8^2 + z8, z8^6 + z8^2 + 1, z8^7 + z8^6 + z8^5 + z8^2 + z8, z8^7 + z8^6 + z8^5 + z8^4 + z8^3 + z8 + 1, z8^7 + z8^5 + z8^4, z8^7 + z8^5 + z8^3 + z8, z8^7 + z8^6 + z8^3 + z8^2 + z8 + 1] \n",
      " [z8^6 + z8^4 + z8^3 + z8^2 + z8 + 1, z8^6 + z8^5 + z8^3 + z8^2, z8^6 + z8^3 + z8^2 + 1, z8^6 + z8^2 + 1, z8^6 + z8^5 + z8^3 + 1, z8^5 + z8^3 + 1, z8^7 + z8^6 + z8^5 + z8^4 + z8^2 + 1, z8^2 + 1, z8^6 + z8^5 + z8^2 + z8 + 1, z8^7 + z8^6 + z8^5 + z8^4 + z8^3 + 1, z8^7 + z8^6 + z8^2 + 1, z8^7 + z8^6 + z8^4 + 1, z8^7 + z8^5 + z8^3 + 1, z8^4 + z8^3 + 1, z8^7 + z8^3 + z8^2, z8^5 + z8^4 + z8^2 + 1, z8^7 + z8^5 + z8^3 + z8^2 + z8 + 1, z8^7 + z8^5 + z8^4 + z8^2 + z8, z8^4 + z8^3 + 1, z8^7 + z8^5 + z8^4 + z8^3 + z8, z8^3 + z8, z8^7 + z8^3 + z8^2 + 1, z8^7 + z8^5 + z8^4 + z8^3 + z8^2 + z8 + 1, z8^7 + z8^6 + z8^3 + z8^2 + z8 + 1, z8^7 + z8^4, z8^7 + z8^6 + z8^5 + z8^4 + z8^3 + z8^2 + 1]\n",
      "\n",
      " Resp2= \n",
      " [z8^7 + z8^6 + z8^5 + z8^4 + z8^3 + z8^2 + z8 + 1, z8^7 + z8^6 + z8^5 + z8^4 + z8^3 + z8^2 + z8, z8^6 + z8^4 + z8^3, z8^6, z8^7 + z8^5 + z8 + 1, z8^5 + z8^4 + z8 + 1, z8^7 + z8^5 + z8^4 + z8^3 + z8^2, z8^7 + z8^6 + z8^5 + z8^3 + z8^2 + 1, z8^7 + z8^5 + z8^4 + z8^3 + z8, z8^7 + z8^6, z8^7 + z8^6, z8^6 + z8^5 + z8^3 + z8^2 + z8 + 1, z8^7 + z8^4 + z8^3 + z8^2 + z8, z8^5 + z8^4 + z8^3 + z8^2 + z8 + 1, z8^7 + z8^6 + z8^5 + z8^4 + z8^2 + 1, z8^7 + z8^2 + z8 + 1, 1, z8, z8^7 + z8^6 + z8^3 + z8, z8^7 + z8^6 + z8, z8^7 + z8^4 + z8^3, z8^6 + z8^5 + z8^2 + z8, z8^6 + z8^5 + z8^3 + z8 + 1, z8^5 + z8^3 + z8, z8^7 + z8^6 + z8^5 + z8^4 + 1, z8^7 + z8^6 + z8^5 + z8^2 + z8 + 1, z8^6 + z8^4 + z8^3, z8^5 + z8^4 + 1, z8^7 + z8^6 + z8^2 + z8, z8^5 + z8^2 + 1, z8^7 + z8^6 + z8^5 + z8^2 + 1, z8^6 + z8^4 + z8^3, z8^7 + z8^6 + z8^3, z8^4 + z8^3 + z8 + 1, z8^7 + z8^6 + z8^3 + z8^2 + z8 + 1, z8^6 + z8^5 + z8^4 + z8^3 + z8^2 + z8 + 1, z8^7 + z8^6 + z8^4 + z8^3, z8^6 + z8^5 + z8^4 + z8^2 + 1, z8^7 + z8^4 + z8^2 + z8, z8^7 + z8^6 + z8^3 + z8 + 1, z8^7 + z8^5 + z8^4 + z8^2 + 1, z8^7, z8^5 + z8^3 + z8 + 1, z8^6 + z8^5 + z8^4 + z8^3 + z8]\n",
      "CPU times: user 47.7 ms, sys: 0 ns, total: 47.7 ms\n",
      "Wall time: 46.7 ms\n"
     ]
    }
   ],
   "source": [
    "%time sign=SIG(MSG,s,F)"
   ]
  },
  {
   "cell_type": "code",
   "execution_count": 16,
   "metadata": {},
   "outputs": [],
   "source": [
    "def Ver(MSG,c0,c1,tt1,e1,Resp2,F,ID):\n",
    "    HID=hashlib.sha3_256(str(ID).encode('utf-8')).hexdigest()\n",
    "    scale=16\n",
    "    k=[GF(256)(int(HID[i],scale)) for i in range (0,m,1)]\n",
    "    print(\"k=\",k)\n",
    "    Vhash1=hashlib.sha3_256(str(MSG).encode('utf-8')).hexdigest()\n",
    "    Vhash2=hashlib.sha3_256(str(Vhash1+c0+c1).encode('utf-8')).hexdigest()\n",
    "    scale=16\n",
    "    Va=int(Vhash2,scale)\n",
    "    print(\"Va=\",Va)\n",
    "    Vhashresp1=hashlib.sha3_256(str(tt1.list()+e1.list()).encode('utf-8')).hexdigest()\n",
    "    Vhash3=hashlib.sha3_256(str(Vhash1+c0+c1+Vhashresp1).encode('utf-8')).hexdigest()\n",
    "    Vch=int(Vhash3,scale)\n",
    "    Vchl=Vch%2\n",
    "    print(\"Vchl=\",Vchl)\n",
    "    r=Resp2\n",
    "    if Vchl==0:\n",
    "        t00=Va*r-tt1\n",
    "        e0temp=[Va*F[i](r.list()) for i in range (0,m,1)]\n",
    "        e00temp=Matrix(m,1,e0temp)\n",
    "        e00=e00temp-e1\n",
    "        Vc0=Com0(r,t00,e00)\n",
    "        print(\"\\n I am at chl=0 and output is\\n\")\n",
    "        if (Vc0==c0):\n",
    "            print(\"1\\n\")\n",
    "        else:\n",
    "            print(\"0\\n\")\n",
    "    else:\n",
    "        GB1=G(tt1,r)\n",
    "        GB11=Matrix(m,1,GB1)\n",
    "        GB11temp=e1+GB11\n",
    "        R31=[F[i](r.list()) for i in range (0,m,1)]\n",
    "        R41=[F[i](zero.list()) for i in range (0,m,1)]\n",
    "        #vk=k.list()\n",
    "        R51=[Va*(k[i]-R31[i]+R41[i]) for i in range (0,m,1)]\n",
    "        R61=Matrix(m,1,R51)\n",
    "        e11=R61-GB11temp\n",
    "        Vc1=Com1(r,e11)\n",
    "        print(\"\\n I am at chl=1 and output is\\n\")\n",
    "        if (Vc1==c1):\n",
    "            print(\"1\\n\")\n",
    "        else:\n",
    "            print(\"0\\n\")"
   ]
  },
  {
   "cell_type": "code",
   "execution_count": 17,
   "metadata": {},
   "outputs": [
    {
     "name": "stdout",
     "output_type": "stream",
     "text": [
      "k= [1, 0, 0, 1, 1, 1, 0, 0, 0, 1, 0, 1, 1, 0, 1, 1, 0, 1, 0, 0, 1, 1, 1, 1, 1, 0]\n",
      "Va= 112589965736012970723646789591093228269417697153894738197501366183298416793764\n",
      "Vchl= 1\n",
      "\n",
      " I am at chl=1 and output is\n",
      "\n",
      "1\n",
      "\n",
      "CPU times: user 30.5 ms, sys: 0 ns, total: 30.5 ms\n",
      "Wall time: 29.7 ms\n"
     ]
    }
   ],
   "source": [
    "%time Ver(MSG,sign[0],sign[1],sign[2],sign[3],sign[4],F,ID)"
   ]
  },
  {
   "cell_type": "code",
   "execution_count": null,
   "metadata": {},
   "outputs": [],
   "source": []
  },
  {
   "cell_type": "code",
   "execution_count": null,
   "metadata": {},
   "outputs": [],
   "source": []
  }
 ],
 "metadata": {
  "kernelspec": {
   "display_name": "SageMath 9.0",
   "language": "sage",
   "name": "sagemath"
  },
  "language_info": {
   "codemirror_mode": {
    "name": "ipython",
    "version": 3
   },
   "file_extension": ".py",
   "mimetype": "text/x-python",
   "name": "python",
   "nbconvert_exporter": "python",
   "pygments_lexer": "ipython3",
   "version": "3.8.5"
  }
 },
 "nbformat": 4,
 "nbformat_minor": 2
}
